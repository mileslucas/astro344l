{
 "cells": [
  {
   "cell_type": "code",
   "execution_count": 1,
   "metadata": {
    "collapsed": true
   },
   "outputs": [],
   "source": [
    "%matplotlib inline\n",
    "import matplotlib.pyplot as plt\n",
    "plt.style.use('seaborn')\n",
    "import pandas as pd\n",
    "import numpy as np"
   ]
  },
  {
   "cell_type": "code",
   "execution_count": 7,
   "metadata": {
    "collapsed": true
   },
   "outputs": [],
   "source": [
    "data = pd.read_csv('../data/result.csv')"
   ]
  },
  {
   "cell_type": "code",
   "execution_count": 8,
   "metadata": {},
   "outputs": [
    {
     "data": {
      "text/html": [
       "<div>\n",
       "<style>\n",
       "    .dataframe thead tr:only-child th {\n",
       "        text-align: right;\n",
       "    }\n",
       "\n",
       "    .dataframe thead th {\n",
       "        text-align: left;\n",
       "    }\n",
       "\n",
       "    .dataframe tbody tr th {\n",
       "        vertical-align: top;\n",
       "    }\n",
       "</style>\n",
       "<table border=\"1\" class=\"dataframe\">\n",
       "  <thead>\n",
       "    <tr style=\"text-align: right;\">\n",
       "      <th></th>\n",
       "      <th>recno</th>\n",
       "      <th>IRAS</th>\n",
       "      <th>RA1950</th>\n",
       "      <th>DE1950</th>\n",
       "      <th>Fnu_12</th>\n",
       "      <th>q_Fnu_12</th>\n",
       "      <th>Fnu_25</th>\n",
       "      <th>q_Fnu_25</th>\n",
       "      <th>Fnu_60</th>\n",
       "      <th>q_Fnu_60</th>\n",
       "      <th>Fnu_100</th>\n",
       "      <th>q_Fnu_100</th>\n",
       "      <th>NLRS</th>\n",
       "      <th>NID</th>\n",
       "      <th>e_Fnu_100</th>\n",
       "      <th>e_Fnu_12</th>\n",
       "      <th>e_Fnu_25</th>\n",
       "      <th>e_Fnu_60</th>\n",
       "    </tr>\n",
       "  </thead>\n",
       "  <tbody>\n",
       "    <tr>\n",
       "      <th>0</th>\n",
       "      <td>10878</td>\n",
       "      <td>02174+6052</td>\n",
       "      <td>34.358333</td>\n",
       "      <td>60.871389</td>\n",
       "      <td>0.8799</td>\n",
       "      <td>3</td>\n",
       "      <td>2.3630</td>\n",
       "      <td>3</td>\n",
       "      <td>32.010</td>\n",
       "      <td>1</td>\n",
       "      <td>127.90</td>\n",
       "      <td>1</td>\n",
       "      <td>0</td>\n",
       "      <td>0</td>\n",
       "      <td>0</td>\n",
       "      <td>6</td>\n",
       "      <td>6</td>\n",
       "      <td>0</td>\n",
       "    </tr>\n",
       "    <tr>\n",
       "      <th>1</th>\n",
       "      <td>10712</td>\n",
       "      <td>02156+6045</td>\n",
       "      <td>33.915417</td>\n",
       "      <td>60.766111</td>\n",
       "      <td>0.2729</td>\n",
       "      <td>1</td>\n",
       "      <td>0.3631</td>\n",
       "      <td>3</td>\n",
       "      <td>3.601</td>\n",
       "      <td>2</td>\n",
       "      <td>44.14</td>\n",
       "      <td>1</td>\n",
       "      <td>0</td>\n",
       "      <td>0</td>\n",
       "      <td>0</td>\n",
       "      <td>0</td>\n",
       "      <td>13</td>\n",
       "      <td>18</td>\n",
       "    </tr>\n",
       "    <tr>\n",
       "      <th>2</th>\n",
       "      <td>10714</td>\n",
       "      <td>02157+6053</td>\n",
       "      <td>33.928333</td>\n",
       "      <td>60.891111</td>\n",
       "      <td>0.8217</td>\n",
       "      <td>3</td>\n",
       "      <td>1.3090</td>\n",
       "      <td>3</td>\n",
       "      <td>21.800</td>\n",
       "      <td>2</td>\n",
       "      <td>215.10</td>\n",
       "      <td>1</td>\n",
       "      <td>0</td>\n",
       "      <td>0</td>\n",
       "      <td>0</td>\n",
       "      <td>16</td>\n",
       "      <td>13</td>\n",
       "      <td>16</td>\n",
       "    </tr>\n",
       "    <tr>\n",
       "      <th>3</th>\n",
       "      <td>10820</td>\n",
       "      <td>02168+6052</td>\n",
       "      <td>34.211250</td>\n",
       "      <td>60.870000</td>\n",
       "      <td>2.1570</td>\n",
       "      <td>3</td>\n",
       "      <td>2.1790</td>\n",
       "      <td>3</td>\n",
       "      <td>32.010</td>\n",
       "      <td>1</td>\n",
       "      <td>127.90</td>\n",
       "      <td>3</td>\n",
       "      <td>0</td>\n",
       "      <td>0</td>\n",
       "      <td>14</td>\n",
       "      <td>24</td>\n",
       "      <td>22</td>\n",
       "      <td>0</td>\n",
       "    </tr>\n",
       "    <tr>\n",
       "      <th>4</th>\n",
       "      <td>10851</td>\n",
       "      <td>02171+6058</td>\n",
       "      <td>34.286250</td>\n",
       "      <td>60.971667</td>\n",
       "      <td>0.3587</td>\n",
       "      <td>2</td>\n",
       "      <td>1.8400</td>\n",
       "      <td>3</td>\n",
       "      <td>11.610</td>\n",
       "      <td>2</td>\n",
       "      <td>63.52</td>\n",
       "      <td>3</td>\n",
       "      <td>0</td>\n",
       "      <td>0</td>\n",
       "      <td>17</td>\n",
       "      <td>15</td>\n",
       "      <td>6</td>\n",
       "      <td>10</td>\n",
       "    </tr>\n",
       "    <tr>\n",
       "      <th>5</th>\n",
       "      <td>10751</td>\n",
       "      <td>02160+6057</td>\n",
       "      <td>34.021250</td>\n",
       "      <td>60.960556</td>\n",
       "      <td>2.4030</td>\n",
       "      <td>3</td>\n",
       "      <td>2.9900</td>\n",
       "      <td>3</td>\n",
       "      <td>47.370</td>\n",
       "      <td>3</td>\n",
       "      <td>215.10</td>\n",
       "      <td>3</td>\n",
       "      <td>0</td>\n",
       "      <td>0</td>\n",
       "      <td>16</td>\n",
       "      <td>16</td>\n",
       "      <td>20</td>\n",
       "      <td>20</td>\n",
       "    </tr>\n",
       "  </tbody>\n",
       "</table>\n",
       "</div>"
      ],
      "text/plain": [
       "   recno        IRAS     RA1950     DE1950  Fnu_12  q_Fnu_12  Fnu_25  \\\n",
       "0  10878  02174+6052  34.358333  60.871389  0.8799         3  2.3630   \n",
       "1  10712  02156+6045  33.915417  60.766111  0.2729         1  0.3631   \n",
       "2  10714  02157+6053  33.928333  60.891111  0.8217         3  1.3090   \n",
       "3  10820  02168+6052  34.211250  60.870000  2.1570         3  2.1790   \n",
       "4  10851  02171+6058  34.286250  60.971667  0.3587         2  1.8400   \n",
       "5  10751  02160+6057  34.021250  60.960556  2.4030         3  2.9900   \n",
       "\n",
       "   q_Fnu_25  Fnu_60  q_Fnu_60  Fnu_100  q_Fnu_100  NLRS  NID  e_Fnu_100  \\\n",
       "0         3  32.010         1   127.90          1     0    0          0   \n",
       "1         3   3.601         2    44.14          1     0    0          0   \n",
       "2         3  21.800         2   215.10          1     0    0          0   \n",
       "3         3  32.010         1   127.90          3     0    0         14   \n",
       "4         3  11.610         2    63.52          3     0    0         17   \n",
       "5         3  47.370         3   215.10          3     0    0         16   \n",
       "\n",
       "   e_Fnu_12  e_Fnu_25  e_Fnu_60  \n",
       "0         6         6         0  \n",
       "1         0        13        18  \n",
       "2        16        13        16  \n",
       "3        24        22         0  \n",
       "4        15         6        10  \n",
       "5        16        20        20  "
      ]
     },
     "execution_count": 8,
     "metadata": {},
     "output_type": "execute_result"
    }
   ],
   "source": [
    "data"
   ]
  },
  {
   "cell_type": "code",
   "execution_count": 34,
   "metadata": {},
   "outputs": [
    {
     "data": {
      "text/plain": [
       "<Container object of 3 artists>"
      ]
     },
     "execution_count": 34,
     "metadata": {},
     "output_type": "execute_result"
    },
    {
     "data": {
      "image/png": "[encoded data removed]",
      "text/plain": [
       "<matplotlib.figure.Figure at 0x16982e51a58>"
      ]
     },
     "metadata": {},
     "output_type": "display_data"
    }
   ],
   "source": [
    "plt.figure()\n",
    "plt.title('Color Ratios')\n",
    "plt.ylabel('log10(F25/F12)')\n",
    "plt.xlabel('log10(F60/F100)')\n",
    "\n",
    "x = np.log10(data['Fnu_60'] / data['Fnu_100'])\n",
    "y = np.log10(data['Fnu_25'] / data['Fnu_12'])\n",
    "err = [data[flux] * 1e-2 * data['e_'+flux] for flux in ['Fnu_12', 'Fnu_25', 'Fnu_60', 'Fnu_100']]\n",
    "# data['err_Fnu_12']\n",
    "yerr = 1/np.log(10) * np.sqrt(1/data['Fnu_25']**2 * err[1]**2 + 1/data['Fnu_12']**2 * err[0]**2)\n",
    "xerr = 1/np.log(10) * np.sqrt(1/data['Fnu_60']**2 * err[2]**2 + 1/data['Fnu_100']**2 * err[3]**2)\n",
    "\n",
    "\n",
    "plt.errorbar(x, y, xerr=xerr, yerr=yerr, fmt='o')"
   ]
  },
  {
   "cell_type": "code",
   "execution_count": 35,
   "metadata": {},
   "outputs": [
    {
     "data": {
      "text/plain": [
       "[<matplotlib.lines.Line2D at 0x169843d6d68>]"
      ]
     },
     "execution_count": 35,
     "metadata": {},
     "output_type": "execute_result"
    },
    {
     "data": {
      "image/png": "[encoded data removed]",
      "text/plain": [
       "<matplotlib.figure.Figure at 0x16982e2a2e8>"
      ]
     },
     "metadata": {},
     "output_type": "display_data"
    }
   ],
   "source": [
    "obj = data[data.IRAS == '02157+6053']\n",
    "waves = np.array([12, 25, 60, 100])\n",
    "freqs =  1 / (waves * 1e-6)\n",
    "y = obj[['Fnu_12', 'Fnu_25', 'Fnu_60', 'Fnu_100']].values.flatten()\n",
    "\n",
    "plt.plot(freqs, y)"
   ]
  },
  {
   "cell_type": "code",
   "execution_count": null,
   "metadata": {
    "collapsed": true
   },
   "outputs": [],
   "source": []
  }
 ],
 "metadata": {
  "kernelspec": {
   "display_name": "Python 3",
   "language": "python",
   "name": "python3"
  },
  "language_info": {
   "codemirror_mode": {
    "name": "ipython",
    "version": 3
   },
   "file_extension": ".py",
   "mimetype": "text/x-python",
   "name": "python",
   "nbconvert_exporter": "python",
   "pygments_lexer": "ipython3",
   "version": "3.6.1"
  }
 },
 "nbformat": 4,
 "nbformat_minor": 2
}
