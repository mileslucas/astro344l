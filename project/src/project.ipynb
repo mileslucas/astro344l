{
 "cells": [
  {
   "cell_type": "code",
   "execution_count": 1,
   "metadata": {
    "collapsed": true
   },
   "outputs": [],
   "source": [
    "from astropy.io import fits\n",
    "import numpy as np\n",
    "from glob import glob\n",
    "import pandas as pd\n",
    "import matplotlib.pyplot as plt\n",
    "plt.style.use('seaborn-notebook')\n",
    "import matplotlib\n",
    "%matplotlib inline\n",
    "import datetime as dt\n",
    "from astropy.stats import LombScargle\n",
    "from astropy.time import Time"
   ]
  },
  {
   "cell_type": "code",
   "execution_count": 2,
   "metadata": {
    "collapsed": true
   },
   "outputs": [],
   "source": [
    "params = {\n",
    "    'xtick.labelsize':10,\n",
    "    'ytick.labelsize':10,\n",
    "    'axes.labelsize':10,\n",
    "    'legend.fontsize':8,\n",
    "    'font.family':'Times New Roman',\n",
    "    'font.weight':'normal',\n",
    "    'text.usetex':True\n",
    "}\n",
    "matplotlib.rcParams.update(params)\n",
    "\n",
    "width = 3.4\n",
    "height = width * .75"
   ]
  },
  {
   "cell_type": "code",
   "execution_count": 3,
   "metadata": {
    "collapsed": true
   },
   "outputs": [],
   "source": [
    "data_927 = pd.read_excel('../data/0927_measurements.xlsx')\n",
    "\n",
    "data_1018 = pd.read_excel('../data/1018_measurements.xlsx')"
   ]
  },
  {
   "cell_type": "code",
   "execution_count": 4,
   "metadata": {
    "collapsed": true
   },
   "outputs": [],
   "source": [
    "full_data = data_927.append(data_1018, ignore_index=True)\n",
    "times = Time(full_data['J.D.-2400000'], format='mjd', scale='utc')\n",
    "full_data['Time Since'] = (times - times[0]).value * 24\n",
    "\n",
    "# full_data.to_csv('../data/full_data.csv')\n",
    "t, mags, err = full_data[['Time Since', 'Source_AMag_T1', 'Source_AMag_Err_T1']].values.T"
   ]
  },
  {
   "cell_type": "code",
   "execution_count": null,
   "metadata": {
    "collapsed": true
   },
   "outputs": [],
   "source": [
    "from brokenaxes import brokenaxes\n",
    "\n",
    "d1_max = max(t[t < 100])\n",
    "d2_min = min(t[t > 100])\n",
    "\n",
    "bax = brokenaxes(xlims=((min(t), d1_max),(d2_min, max(t))), wspace=0.2,despine=False)\n",
    "plt.setp(bax.get_xticklabels(), rotation=30)\n",
    "bax.errorbar(t, mags, yerr=err, alpha=0.8, fmt='.', c='k', elinewidth=1, markersize=5)\n",
    "bax.set_xlabel('t (h)')\n",
    "bax.set_ylabel('V (mag)')\n",
    "\n",
    "bax.fig.set_size_inches(width, height)\n",
    "bax.fig.savefig('../docs/project/figs/rawmags.pdf', bbox_inches='tight')"
   ]
  },
  {
   "cell_type": "code",
   "execution_count": null,
   "metadata": {
    "collapsed": true
   },
   "outputs": [],
   "source": [
    "# frequency = np.linspace(1./100, 1./130, 100)\n",
    "LS = LombScargle(t, mags, dy=err, nterms=1)\n",
    "frequency, power = LS.autopower()\n",
    "best_frequency = frequency[np.argmax(power)]\n",
    "phase = (t * best_frequency) % 2\n",
    "\n",
    "phase_fit = np.linspace(0, 2, len(mags))\n",
    "y_fit = LS.model(phase_fit / best_frequency, best_frequency)"
   ]
  },
  {
   "cell_type": "code",
   "execution_count": null,
   "metadata": {
    "collapsed": true
   },
   "outputs": [],
   "source": [
    "plt.plot(frequency, power, 'k', lw=.1)\n",
    "plt.grid(True, alpha=.25)\n",
    "plt.xlabel(r'\\textit{f} (h^{-1})')\n",
    "plt.ylabel('Power')\n",
    "plt.gcf().set_size_inches(width, height)\n",
    "plt.savefig('../docs/project/figs/power.pdf', bbox_inches='tight')"
   ]
  },
  {
   "cell_type": "code",
   "execution_count": null,
   "metadata": {
    "collapsed": true
   },
   "outputs": [],
   "source": [
    "plt.figure()\n",
    "plt.gca().invert_yaxis()\n",
    "plt.plot(phase_fit, y_fit, c='k', lw=2, label='Fit', zorder=1)\n",
    "plt.plot(phase, mags, '.', label='Data', c='.4', zorder=0,markersize=5)\n",
    "plt.grid(True, alpha=.25)\n",
    "plt.legend()\n",
    "plt.xlabel('Phase')\n",
    "plt.ylabel('V (mag)')\n",
    "plt.gcf().set_size_inches(width, height)\n",
    "plt.savefig('../docs/project/figs/fit.pdf', bbox_inches='tight')"
   ]
  },
  {
   "cell_type": "code",
   "execution_count": null,
   "metadata": {
    "collapsed": true
   },
   "outputs": [],
   "source": [
    "s = np.sqrt( np.sum(y_fit - mags)**2/ (len(mags) - 2))\n",
    "print(s/best_frequency)\n",
    "print('Best Frequency: {} +- {}'.format(best_frequency, best_frequency * s))\n",
    "print('Best Period: {}+-{} h   {}+-{} d'.format(1/best_frequency,s/best_frequency, 1/best_frequency/24, s/best_frequency/24))\n",
    "print('Raw range {} to {} ({} mag)'.format(mags.min(), mags.max(), abs(mags.min() - mags.max())))\n",
    "print('Fit range {} to {} ({} mag)'.format(y_fit.min(), y_fit.max(), abs(y_fit.min() - y_fit.max())))"
   ]
  },
  {
   "cell_type": "code",
   "execution_count": 15,
   "metadata": {},
   "outputs": [
    {
     "name": "stdout",
     "output_type": "stream",
     "text": [
      "0.637\n"
     ]
    },
    {
     "data": {
      "image/png": "[encoded data removed]",
      "text/plain": [
       "<matplotlib.figure.Figure at 0x1c4bb959ba8>"
      ]
     },
     "metadata": {},
     "output_type": "display_data"
    }
   ],
   "source": [
    "t = np.linspace(0, 100, 1000)\n",
    "y = np.sin(4 * t)\n",
    "\n",
    "LS =  LombScargle(t, y)\n",
    "fre, power = LS.autopower(maximum_frequency=3)\n",
    "best_fre = fre[np.argmax(power)]\n",
    "plt.plot(fre, power)\n",
    "print(best_fre)"
   ]
  },
  {
   "cell_type": "code",
   "execution_count": null,
   "metadata": {
    "collapsed": true
   },
   "outputs": [],
   "source": []
  }
 ],
 "metadata": {
  "kernelspec": {
   "display_name": "Python 3",
   "language": "python",
   "name": "python3"
  },
  "language_info": {
   "codemirror_mode": {
    "name": "ipython",
    "version": 3
   },
   "file_extension": ".py",
   "mimetype": "text/x-python",
   "name": "python",
   "nbconvert_exporter": "python",
   "pygments_lexer": "ipython3",
   "version": "3.6.2"
  }
 },
 "nbformat": 4,
 "nbformat_minor": 2
}
