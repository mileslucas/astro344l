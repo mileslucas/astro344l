{
 "cells": [
  {
   "cell_type": "code",
   "execution_count": 2,
   "metadata": {},
   "outputs": [],
   "source": [
    "%matplotlib inline\n",
    "from matplotlib import rc\n",
    "rc('text', usetex=True)\n",
    "from matplotlib import rcParams\n",
    "import pandas as pd\n",
    "import numpy as np\n",
    "from scipy.stats import linregress"
   ]
  },
  {
   "cell_type": "code",
   "execution_count": 3,
   "metadata": {},
   "outputs": [],
   "source": [
    "params = {\n",
    "    'xtick.labelsize':10,\n",
    "    'ytick.labelsize':10,\n",
    "    'axes.labelsize':10,\n",
    "    'legend.fontsize':8,\n",
    "    'font.family':'Times New Roman',\n",
    "    'font.weight':'normal',\n",
    "    'text.usetex':True\n",
    "}\n",
    "rcParams.update(params)\n",
    "import matplotlib.pyplot as plt\n",
    "\n",
    "plt.style.use('seaborn-notebook')\n",
    "\n",
    "width = 2 * 3.4\n",
    "height = width *.7"
   ]
  },
  {
   "cell_type": "code",
   "execution_count": 4,
   "metadata": {
    "collapsed": true
   },
   "outputs": [],
   "source": [
    "data = pd.read_csv('../data/table.csv', index_col=0)\n",
    "x_R = data['x/R'].values\n",
    "t = data['MJD'].values\n",
    "y = np.arccos(x_R)"
   ]
  },
  {
   "cell_type": "code",
   "execution_count": 6,
   "metadata": {},
   "outputs": [
    {
     "data": {
      "image/png": "[encoded data removed]",
      "text/plain": [
       "<matplotlib.figure.Figure at 0x1cb083d9390>"
      ]
     },
     "metadata": {},
     "output_type": "display_data"
    }
   ],
   "source": [
    "slope, intercept, r, p, std_err = linregress(t, y)\n",
    "\n",
    "model = lambda t: slope*t + intercept\n",
    "\n",
    "plt.plot(t, y, 'ko', label='Data')\n",
    "plt.plot(t, model(t), 'k--', label='Fit: \\omega={:.2f}'.format(slope))\n",
    "plt.ylabel('\\cos^{-1}{x/R}')\n",
    "plt.xlabel('Time (MJD)')\n",
    "plt.grid(True, alpha=.5)\n",
    "plt.legend()\n",
    "\n",
    "\n",
    "plt.gcf().set_size_inches(width, height)\n",
    "plt.savefig(b'../docs/figs/fit.pdf', bbox_inches='tight', dpi=300)"
   ]
  },
  {
   "cell_type": "markdown",
   "metadata": {},
   "source": [
    "## Getting Science from the Math\n",
    "\n",
    "### Synodic Period\n",
    "From our equations above, we see that the period of the line, which is our frequency is .24. What units is this? It is the change in a unitless value (arccos) over change in MJD. Modified Julian Date. The change of 1 MJD is equivalent to 1 day, so this frequency is $day^{-1}$. So if we want the frequency in years, we can just multiply by 365.25 $day/yr$. \n",
    "\n",
    "### Sidereal Period\n",
    "We can get the Sidereal period by noting that the sidereal frequency is $\\omega_{Side} = 1 + \\omega_{Syn}$ and then $T_{Side} = 1/\\omega_{Side}$"
   ]
  },
  {
   "cell_type": "code",
   "execution_count": 8,
   "metadata": {},
   "outputs": [
    {
     "name": "stdout",
     "output_type": "stream",
     "text": [
      "26.1806595102 0.0588390994529\n",
      "24.4295781482 0.0512314664416\n"
     ]
    }
   ],
   "source": [
    "w_yr = slope * 365.25 / (2 * np.pi)\n",
    "O = 1/w_yr\n",
    "T = 1/(1+w_yr)\n",
    "print(O * 365.25, O * 365.25 * std_err)\n",
    "print(1/(1+w_yr)*365.25, w_yr*std_err * 365.25 / (1 + w_yr)**2)"
   ]
  },
  {
   "cell_type": "code",
   "execution_count": null,
   "metadata": {
    "collapsed": true
   },
   "outputs": [],
   "source": []
  }
 ],
 "metadata": {
  "kernelspec": {
   "display_name": "Python 3",
   "language": "python",
   "name": "python3"
  },
  "language_info": {
   "codemirror_mode": {
    "name": "ipython",
    "version": 3
   },
   "file_extension": ".py",
   "mimetype": "text/x-python",
   "name": "python",
   "nbconvert_exporter": "python",
   "pygments_lexer": "ipython3",
   "version": "3.6.2"
  }
 },
 "nbformat": 4,
 "nbformat_minor": 2
}
