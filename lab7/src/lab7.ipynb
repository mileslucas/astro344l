{
 "cells": [
  {
   "cell_type": "code",
   "execution_count": 16,
   "metadata": {
    "collapsed": true
   },
   "outputs": [],
   "source": [
    "%matplotlib inline\n",
    "from matplotlib import rc\n",
    "rc('text', usetex=True)\n",
    "import matplotlib.pyplot as plt\n",
    "from matplotlib import rcParams\n",
    "import pandas as pd\n",
    "import numpy as np\n",
    "from scipy.stats import linregress\n",
    "plt.style.use('seaborn-notebook')"
   ]
  },
  {
   "cell_type": "code",
   "execution_count": 17,
   "metadata": {
    "collapsed": true
   },
   "outputs": [],
   "source": [
    "params = {\n",
    "    'xtick.labelsize':12,\n",
    "    'ytick.labelsize':12,\n",
    "    'axes.labelsize':12,\n",
    "    'legend.fontsize':8,\n",
    "    'font.family':'Times New Roman',\n",
    "    'font.weight':'normal',\n",
    "    'text.usetex':True\n",
    "}\n",
    "rcParams.update(params)\n",
    "\n",
    "width = 4.963\n",
    "height = width * .75"
   ]
  },
  {
   "cell_type": "code",
   "execution_count": 3,
   "metadata": {
    "collapsed": true
   },
   "outputs": [],
   "source": [
    "data = pd.read_csv('../data/table.csv', index_col=0)\n",
    "x_R = data['x/R'].values\n",
    "t = data['MJD'].values\n",
    "y = np.arccos(x_R)"
   ]
  },
  {
   "cell_type": "code",
   "execution_count": 23,
   "metadata": {},
   "outputs": [
    {
     "data": {
      "image/png": "[encoded data removed]",
      "text/plain": [
       "<matplotlib.figure.Figure at 0x240df208c50>"
      ]
     },
     "metadata": {},
     "output_type": "display_data"
    }
   ],
   "source": [
    "slope, intercept, r, p, std_err = linregress(t, y)\n",
    "\n",
    "model = lambda t: slope*t + intercept\n",
    "\n",
    "plt.plot(t, y, 'C0o', label='Data')\n",
    "plt.plot(t, model(t), 'C0--', label=r'Fit: \\omega={:.2f}'.format(slope))\n",
    "plt.ylabel('\\cos^{-1}{x/R}')\n",
    "plt.xlabel('Time (MJD)')\n",
    "plt.grid(True, alpha=.5)\n",
    "plt.legend()\n",
    "\n",
    "\n",
    "plt.gcf().set_size_inches(width, height)\n",
    "plt.savefig('../docs/figs/fit.pdf')"
   ]
  },
  {
   "cell_type": "markdown",
   "metadata": {},
   "source": [
    "## Getting Science from the Math\n",
    "\n",
    "### Synodic Period\n",
    "From our equations above, we see that the period of the line, which is our frequency is .24. What units is this? It is the change in a unitless value (arccos) over change in MJD. Modified Julian Date. The change of 1 MJD is equivalent to 1 day, so this frequency is $day^{-1}$. So if we want the frequency in years, we can just multiply by 365.25 $day/yr$. \n",
    "\n",
    "### Sidereal Period\n",
    "We can get the Sidereal period by noting that the sidereal frequency is $\\omega_{Side} = 1 + \\omega_{Syn}$ and then $T_{Side} = 1/\\omega_{Side}$"
   ]
  },
  {
   "cell_type": "code",
   "execution_count": 28,
   "metadata": {},
   "outputs": [
    {
     "name": "stdout",
     "output_type": "stream",
     "text": [
      "0.0114080256659 2.56386954825e-05\n",
      "0.0112793505453 2.50635816658e-05\n"
     ]
    }
   ],
   "source": [
    "w_yr = slope * 365.25\n",
    "O = 1/w_yr\n",
    "T = 1/(1+1/O)\n",
    "T * 365.25\n",
    "print(1/w_yr, 1/(w_yr)**2 * w_yr*std_err)\n",
    "print(1/(1+w_yr), w_yr*std_err / (1 + w_yr)**2)"
   ]
  },
  {
   "cell_type": "code",
   "execution_count": null,
   "metadata": {
    "collapsed": true
   },
   "outputs": [],
   "source": []
  }
 ],
 "metadata": {
  "kernelspec": {
   "display_name": "Python 3",
   "language": "python",
   "name": "python3"
  },
  "language_info": {
   "codemirror_mode": {
    "name": "ipython",
    "version": 3
   },
   "file_extension": ".py",
   "mimetype": "text/x-python",
   "name": "python",
   "nbconvert_exporter": "python",
   "pygments_lexer": "ipython3",
   "version": "3.6.1"
  }
 },
 "nbformat": 4,
 "nbformat_minor": 2
}
